{
  "nbformat": 4,
  "nbformat_minor": 0,
  "metadata": {
    "colab": {
      "provenance": [],
      "authorship_tag": "ABX9TyPiqq5qeb+0GS9+NJrOeu0W",
      "include_colab_link": true
    },
    "kernelspec": {
      "name": "python3",
      "display_name": "Python 3"
    },
    "language_info": {
      "name": "python"
    }
  },
  "cells": [
    {
      "cell_type": "markdown",
      "metadata": {
        "id": "view-in-github",
        "colab_type": "text"
      },
      "source": [
        "<a href=\"https://colab.research.google.com/github/Bandar-Tsuki/LatihanDAA-punya-akuh/blob/main/DAA12.ipynb\" target=\"_parent\"><img src=\"https://colab.research.google.com/assets/colab-badge.svg\" alt=\"Open In Colab\"/></a>"
      ]
    },
    {
      "cell_type": "code",
      "execution_count": 1,
      "metadata": {
        "colab": {
          "base_uri": "https://localhost:8080/"
        },
        "id": "g1cDrqpPhwCQ",
        "outputId": "518914f8-bc3a-4bad-e67a-0e70f0ca2d3d"
      },
      "outputs": [
        {
          "output_type": "stream",
          "name": "stdout",
          "text": [
            "Looking in indexes: https://pypi.org/simple, https://us-python.pkg.dev/colab-wheels/public/simple/\n",
            "Requirement already satisfied: networkx in /usr/local/lib/python3.7/dist-packages (2.6.3)\n"
          ]
        }
      ],
      "source": [
        "pip install networkx"
      ]
    },
    {
      "cell_type": "code",
      "source": [
        "import networkx as nx\n",
        "import matplotlib.pyplot as plt\n",
        "vertices = range(1,10)\n",
        "edges = [(7,2), (2,3), (7,4), (4,5), (7,3), (7,5), (1,6), (1,7), (2,8), (2,9)]\n",
        "G = nx.Graph()\n",
        "G.add_nodes_from(vertices)\n",
        "G.add_edges_from(edges)\n",
        "nx.draw(G, with_labels=True, node_color='y', node_size=800)"
      ],
      "metadata": {
        "colab": {
          "base_uri": "https://localhost:8080/",
          "height": 319
        },
        "id": "R_P11h8eiGrJ",
        "outputId": "87f17e85-98d5-4988-ce62-f6e83e58b87c"
      },
      "execution_count": 2,
      "outputs": [
        {
          "output_type": "display_data",
          "data": {
            "text/plain": [
              "<Figure size 432x288 with 1 Axes>"
            ],
            "image/png": "[encoded data removed]"
          },
          "metadata": {}
        }
      ]
    },
    {
      "cell_type": "code",
      "source": [
        "nx.betweenness_centrality(G)"
      ],
      "metadata": {
        "colab": {
          "base_uri": "https://localhost:8080/"
        },
        "id": "q4yNAHRRiJR2",
        "outputId": "276a4715-2f6c-406b-9ef3-382e38377264"
      },
      "execution_count": 3,
      "outputs": [
        {
          "output_type": "execute_result",
          "data": {
            "text/plain": [
              "{1: 0.25,\n",
              " 2: 0.46428571428571425,\n",
              " 3: 0.0,\n",
              " 4: 0.0,\n",
              " 5: 0.0,\n",
              " 6: 0.0,\n",
              " 7: 0.7142857142857142,\n",
              " 8: 0.0,\n",
              " 9: 0.0}"
            ]
          },
          "metadata": {},
          "execution_count": 3
        }
      ]
    },
    {
      "cell_type": "code",
      "source": [
        "nx.closeness_centrality(G)"
      ],
      "metadata": {
        "colab": {
          "base_uri": "https://localhost:8080/"
        },
        "id": "k7t8LmfPiJ_-",
        "outputId": "3234d683-73fd-457b-963c-5a3c95c10459"
      },
      "execution_count": 4,
      "outputs": [
        {
          "output_type": "execute_result",
          "data": {
            "text/plain": [
              "{1: 0.5,\n",
              " 2: 0.6153846153846154,\n",
              " 3: 0.5333333333333333,\n",
              " 4: 0.47058823529411764,\n",
              " 5: 0.47058823529411764,\n",
              " 6: 0.34782608695652173,\n",
              " 7: 0.7272727272727273,\n",
              " 8: 0.4,\n",
              " 9: 0.4}"
            ]
          },
          "metadata": {},
          "execution_count": 4
        }
      ]
    },
    {
      "cell_type": "code",
      "source": [
        "nx.degree_centrality(G)"
      ],
      "metadata": {
        "colab": {
          "base_uri": "https://localhost:8080/"
        },
        "id": "7fKX3ZEriLoD",
        "outputId": "0bb0db56-9b8e-4544-b4f8-4f9d0db392c2"
      },
      "execution_count": 5,
      "outputs": [
        {
          "output_type": "execute_result",
          "data": {
            "text/plain": [
              "{1: 0.25,\n",
              " 2: 0.5,\n",
              " 3: 0.25,\n",
              " 4: 0.25,\n",
              " 5: 0.25,\n",
              " 6: 0.125,\n",
              " 7: 0.625,\n",
              " 8: 0.125,\n",
              " 9: 0.125}"
            ]
          },
          "metadata": {},
          "execution_count": 5
        }
      ]
    },
    {
      "cell_type": "code",
      "source": [
        "centrality = nx.eigenvector_centrality(G)\n",
        "sorted((v, '{:0.2f}'.format(c)) for v, c in centrality.items())"
      ],
      "metadata": {
        "colab": {
          "base_uri": "https://localhost:8080/"
        },
        "id": "-qu5-pbLiM9O",
        "outputId": "11449e0c-ae38-40d7-eab4-f2963717c574"
      },
      "execution_count": 6,
      "outputs": [
        {
          "output_type": "execute_result",
          "data": {
            "text/plain": [
              "[(1, '0.24'),\n",
              " (2, '0.45'),\n",
              " (3, '0.36'),\n",
              " (4, '0.32'),\n",
              " (5, '0.32'),\n",
              " (6, '0.08'),\n",
              " (7, '0.59'),\n",
              " (8, '0.16'),\n",
              " (9, '0.16')]"
            ]
          },
          "metadata": {},
          "execution_count": 6
        }
      ]
    },
    {
      "cell_type": "code",
      "source": [
        "G = nx.Graph()\n",
        "\n",
        "G.add_edges_from( [('Bob','Mike'), ('Bob','Jill'), ('Bob','Emma'), ('Bob','John'), \n",
        "                   ('John','Jill'), ('John','Shane'), ('John','Leah'),\n",
        "                   ('Mike','Jill'), ('Mike','Emma'),\n",
        "                   ('Jill','Emma'), ('Jill','Shane'), ('Jill','Leah'),\n",
        "                   ('Leah','Shane'), ('Emma','Liz'), ('Emma','Shane'),\n",
        "                   ('Shane','Liz'), ('Liz','Allen'), ('Allen','Lisa')])\n",
        "nx.draw(G, with_labels=True, node_color='blue', node_size=1200, font_color='white')"
      ],
      "metadata": {
        "colab": {
          "base_uri": "https://localhost:8080/",
          "height": 319
        },
        "id": "1GyMcbPRiPhy",
        "outputId": "e92796ef-a986-4cea-a3f5-08dd02c9ece8"
      },
      "execution_count": 7,
      "outputs": [
        {
          "output_type": "display_data",
          "data": {
            "text/plain": [
              "<Figure size 432x288 with 1 Axes>"
            ],
            "image/png": "[encoded data removed]"
          },
          "metadata": {}
        }
      ]
    },
    {
      "cell_type": "code",
      "source": [
        "nx.betweenness_centrality(G)"
      ],
      "metadata": {
        "colab": {
          "base_uri": "https://localhost:8080/"
        },
        "id": "dof4OP0piRGT",
        "outputId": "18cf086f-2bf4-4515-a71b-aabdd21d33e9"
      },
      "execution_count": 8,
      "outputs": [
        {
          "output_type": "execute_result",
          "data": {
            "text/plain": [
              "{'Bob': 0.023148148148148143,\n",
              " 'Mike': 0.0,\n",
              " 'Jill': 0.10185185185185183,\n",
              " 'Emma': 0.23148148148148148,\n",
              " 'John': 0.023148148148148143,\n",
              " 'Shane': 0.23148148148148143,\n",
              " 'Leah': 0.0,\n",
              " 'Liz': 0.38888888888888884,\n",
              " 'Allen': 0.2222222222222222,\n",
              " 'Lisa': 0.0}"
            ]
          },
          "metadata": {},
          "execution_count": 8
        }
      ]
    },
    {
      "cell_type": "code",
      "source": [
        "nx.closeness_centrality(G)"
      ],
      "metadata": {
        "colab": {
          "base_uri": "https://localhost:8080/"
        },
        "id": "CyGxNas1iSe7",
        "outputId": "ef65aa74-ab75-48e6-dfb5-46ebee454ab1"
      },
      "execution_count": 9,
      "outputs": [
        {
          "output_type": "execute_result",
          "data": {
            "text/plain": [
              "{'Bob': 0.5294117647058824,\n",
              " 'Mike': 0.5,\n",
              " 'Jill': 0.6,\n",
              " 'Emma': 0.6428571428571429,\n",
              " 'John': 0.5294117647058824,\n",
              " 'Shane': 0.6428571428571429,\n",
              " 'Leah': 0.5,\n",
              " 'Liz': 0.6,\n",
              " 'Allen': 0.42857142857142855,\n",
              " 'Lisa': 0.3103448275862069}"
            ]
          },
          "metadata": {},
          "execution_count": 9
        }
      ]
    },
    {
      "cell_type": "code",
      "source": [
        "nx.degree_centrality(G)"
      ],
      "metadata": {
        "colab": {
          "base_uri": "https://localhost:8080/"
        },
        "id": "4JErW7TgiT9B",
        "outputId": "7d949aca-a9fa-4520-8ad6-1e248ce8bbb7"
      },
      "execution_count": 10,
      "outputs": [
        {
          "output_type": "execute_result",
          "data": {
            "text/plain": [
              "{'Bob': 0.4444444444444444,\n",
              " 'Mike': 0.3333333333333333,\n",
              " 'Jill': 0.6666666666666666,\n",
              " 'Emma': 0.5555555555555556,\n",
              " 'John': 0.4444444444444444,\n",
              " 'Shane': 0.5555555555555556,\n",
              " 'Leah': 0.3333333333333333,\n",
              " 'Liz': 0.3333333333333333,\n",
              " 'Allen': 0.2222222222222222,\n",
              " 'Lisa': 0.1111111111111111}"
            ]
          },
          "metadata": {},
          "execution_count": 10
        }
      ]
    },
    {
      "cell_type": "code",
      "source": [
        "centrality = nx.eigenvector_centrality(G)\n",
        "sorted((v, '{:0.2f}'.format(c)) for v, c in centrality.items())"
      ],
      "metadata": {
        "colab": {
          "base_uri": "https://localhost:8080/"
        },
        "id": "_CVstJU9iVdd",
        "outputId": "35bc8788-cf20-4b41-b938-896503820425"
      },
      "execution_count": 11,
      "outputs": [
        {
          "output_type": "execute_result",
          "data": {
            "text/plain": [
              "[('Allen', '0.05'),\n",
              " ('Bob', '0.35'),\n",
              " ('Emma', '0.40'),\n",
              " ('Jill', '0.48'),\n",
              " ('John', '0.35'),\n",
              " ('Leah', '0.29'),\n",
              " ('Lisa', '0.01'),\n",
              " ('Liz', '0.20'),\n",
              " ('Mike', '0.29'),\n",
              " ('Shane', '0.40')]"
            ]
          },
          "metadata": {},
          "execution_count": 11
        }
      ]
    },
    {
      "cell_type": "code",
      "source": [
        "G = nx.Graph()\n",
        "vertices = range(1,15)\n",
        "edges = [(9,6), (7,6), (14,6), (8,6), (6,2), (12,2), (11,2), \n",
        "         (2,15), (2,3), (3,13), (5,3), (2,1), (1,4), (1,10)]\n",
        "\n",
        "G = nx.Graph()\n",
        "G.add_nodes_from(vertices)\n",
        "G.add_edges_from(edges)\n",
        "nx.draw(G, with_labels=True, node_color='red', node_size=1200, font_color='white')"
      ],
      "metadata": {
        "colab": {
          "base_uri": "https://localhost:8080/",
          "height": 319
        },
        "id": "CpgFMK4riXGg",
        "outputId": "4985b603-165a-46b5-a1d6-3e93abd31b69"
      },
      "execution_count": 12,
      "outputs": [
        {
          "output_type": "display_data",
          "data": {
            "text/plain": [
              "<Figure size 432x288 with 1 Axes>"
            ],
            "image/png": "[encoded data removed]"
          },
          "metadata": {}
        }
      ]
    },
    {
      "cell_type": "code",
      "source": [
        "nx.betweenness_centrality(G)"
      ],
      "metadata": {
        "colab": {
          "base_uri": "https://localhost:8080/"
        },
        "id": "9X3XqXeaiY1V",
        "outputId": "a7722ff7-4d0a-45a0-d617-34a86396eb7d"
      },
      "execution_count": 13,
      "outputs": [
        {
          "output_type": "execute_result",
          "data": {
            "text/plain": [
              "{1: 0.27472527472527475,\n",
              " 2: 0.8241758241758242,\n",
              " 3: 0.27472527472527475,\n",
              " 4: 0.0,\n",
              " 5: 0.0,\n",
              " 6: 0.5054945054945056,\n",
              " 7: 0.0,\n",
              " 8: 0.0,\n",
              " 9: 0.0,\n",
              " 10: 0.0,\n",
              " 11: 0.0,\n",
              " 12: 0.0,\n",
              " 13: 0.0,\n",
              " 14: 0.0,\n",
              " 15: 0.0}"
            ]
          },
          "metadata": {},
          "execution_count": 13
        }
      ]
    },
    {
      "cell_type": "code",
      "source": [
        "nx.closeness_centrality(G)"
      ],
      "metadata": {
        "colab": {
          "base_uri": "https://localhost:8080/"
        },
        "id": "vEYfleESiaPC",
        "outputId": "c99e82e5-5b72-4ddd-9cb1-9fdc33289783"
      },
      "execution_count": 14,
      "outputs": [
        {
          "output_type": "execute_result",
          "data": {
            "text/plain": [
              "{1: 0.45161290322580644,\n",
              " 2: 0.6363636363636364,\n",
              " 3: 0.45161290322580644,\n",
              " 4: 0.3181818181818182,\n",
              " 5: 0.3181818181818182,\n",
              " 6: 0.5185185185185185,\n",
              " 7: 0.35,\n",
              " 8: 0.35,\n",
              " 9: 0.35,\n",
              " 10: 0.3181818181818182,\n",
              " 11: 0.4,\n",
              " 12: 0.4,\n",
              " 13: 0.3181818181818182,\n",
              " 14: 0.35,\n",
              " 15: 0.4}"
            ]
          },
          "metadata": {},
          "execution_count": 14
        }
      ]
    },
    {
      "cell_type": "code",
      "source": [
        "nx.degree_centrality(G)"
      ],
      "metadata": {
        "colab": {
          "base_uri": "https://localhost:8080/"
        },
        "id": "JnBBJTQ1ickL",
        "outputId": "3ac8fe27-0d88-491f-8108-39533523b4fc"
      },
      "execution_count": 15,
      "outputs": [
        {
          "output_type": "execute_result",
          "data": {
            "text/plain": [
              "{1: 0.21428571428571427,\n",
              " 2: 0.42857142857142855,\n",
              " 3: 0.21428571428571427,\n",
              " 4: 0.07142857142857142,\n",
              " 5: 0.07142857142857142,\n",
              " 6: 0.3571428571428571,\n",
              " 7: 0.07142857142857142,\n",
              " 8: 0.07142857142857142,\n",
              " 9: 0.07142857142857142,\n",
              " 10: 0.07142857142857142,\n",
              " 11: 0.07142857142857142,\n",
              " 12: 0.07142857142857142,\n",
              " 13: 0.07142857142857142,\n",
              " 14: 0.07142857142857142,\n",
              " 15: 0.07142857142857142}"
            ]
          },
          "metadata": {},
          "execution_count": 15
        }
      ]
    },
    {
      "cell_type": "code",
      "source": [
        "centrality = nx.eigenvector_centrality(G)\n",
        "sorted((v, '{:0.2f}'.format(c)) for v, c in centrality.items())"
      ],
      "metadata": {
        "colab": {
          "base_uri": "https://localhost:8080/"
        },
        "id": "-T9Rnm4mieFq",
        "outputId": "2abc892a-9af1-4bc1-eacb-d0227a128d8c"
      },
      "execution_count": 16,
      "outputs": [
        {
          "output_type": "execute_result",
          "data": {
            "text/plain": [
              "[(1, '0.29'),\n",
              " (2, '0.60'),\n",
              " (3, '0.29'),\n",
              " (4, '0.10'),\n",
              " (5, '0.10'),\n",
              " (6, '0.44'),\n",
              " (7, '0.16'),\n",
              " (8, '0.16'),\n",
              " (9, '0.16'),\n",
              " (10, '0.10'),\n",
              " (11, '0.21'),\n",
              " (12, '0.21'),\n",
              " (13, '0.10'),\n",
              " (14, '0.16'),\n",
              " (15, '0.21')]"
            ]
          },
          "metadata": {},
          "execution_count": 16
        }
      ]
    },
    {
      "cell_type": "code",
      "source": [
        "G_fb = nx.read_edgelist(\"facebook_combined.txt\", create_using = nx.Graph(), nodetype=int)\n",
        "print(nx.info(G_fb))"
      ],
      "metadata": {
        "colab": {
          "base_uri": "https://localhost:8080/"
        },
        "id": "vAfvlK1wihdG",
        "outputId": "6a71c46a-744b-4745-c536-70c8b90bb17b"
      },
      "execution_count": 17,
      "outputs": [
        {
          "output_type": "stream",
          "name": "stdout",
          "text": [
            "Graph with 4039 nodes and 88234 edges\n"
          ]
        }
      ]
    },
    {
      "cell_type": "code",
      "source": [
        "pos = nx.spring_layout(G_fb)\n",
        "betCent = nx.betweenness_centrality(G_fb, normalized=True, endpoints=True)\n",
        "node_color = [20000.0 * G_fb.degree(v) for v in G_fb]\n",
        "node_size = [v * 10000 for v in betCent.values()]\n",
        "plt.figure(figsize=(20,20))\n",
        "nx.draw_networkx(G_fb, pos=pos, with_labels=False,\n",
        "                 node_color=node_color,\n",
        "                 node_size=node_size)\n",
        "plt.axis('off')"
      ],
      "metadata": {
        "id": "yEEH-tPsit2c"
      },
      "execution_count": null,
      "outputs": []
    }
  ]
}