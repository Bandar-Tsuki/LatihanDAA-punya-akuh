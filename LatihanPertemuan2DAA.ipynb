{
  "nbformat": 4,
  "nbformat_minor": 0,
  "metadata": {
    "colab": {
      "provenance": [],
      "authorship_tag": "ABX9TyNYY/md8Jv8a3D3QKdr0JU8",
      "include_colab_link": true
    },
    "kernelspec": {
      "name": "python3",
      "display_name": "Python 3"
    },
    "language_info": {
      "name": "python"
    }
  },
  "cells": [
    {
      "cell_type": "markdown",
      "metadata": {
        "id": "view-in-github",
        "colab_type": "text"
      },
      "source": [
        "<a href=\"https://colab.research.google.com/github/Bandar-Tsuki/LatihanDAA-punya-akuh/blob/main/LatihanPertemuan2DAA.ipynb\" target=\"_parent\"><img src=\"https://colab.research.google.com/assets/colab-badge.svg\" alt=\"Open In Colab\"/></a>"
      ]
    },
    {
      "cell_type": "code",
      "execution_count": 18,
      "metadata": {
        "id": "yjXG2ibMGHHR"
      },
      "outputs": [],
      "source": [
        "import numpy as np"
      ]
    },
    {
      "cell_type": "code",
      "source": [
        "print(\"Hello World\")\n",
        "input(\"Nama saya : \")\n",
        "input(\"NIM saya : \")"
      ],
      "metadata": {
        "colab": {
          "base_uri": "https://localhost:8080/",
          "height": 87
        },
        "id": "sr_6Orq_GNM4",
        "outputId": "1b88fc37-c484-49d8-b8fb-5a67f0585f37"
      },
      "execution_count": 19,
      "outputs": [
        {
          "name": "stdout",
          "output_type": "stream",
          "text": [
            "Hello World\n",
            "Nama saya : ndar\n",
            "NIM saya : 2021071024\n"
          ]
        },
        {
          "output_type": "execute_result",
          "data": {
            "text/plain": [
              "'2021071024'"
            ],
            "application/vnd.google.colaboratory.intrinsic+json": {
              "type": "string"
            }
          },
          "metadata": {},
          "execution_count": 19
        }
      ]
    },
    {
      "cell_type": "code",
      "source": [
        "def getFirst(mylist):\n",
        "    return mylist[0]\n",
        "getFirst([1,2,3,4,5,6])"
      ],
      "metadata": {
        "colab": {
          "base_uri": "https://localhost:8080/"
        },
        "id": "KGR42BAuLukz",
        "outputId": "a279dae7-cb91-4433-9f32-bddec922c3a6"
      },
      "execution_count": 20,
      "outputs": [
        {
          "output_type": "execute_result",
          "data": {
            "text/plain": [
              "1"
            ]
          },
          "metadata": {},
          "execution_count": 20
        }
      ]
    },
    {
      "cell_type": "code",
      "source": [
        "def getFirst(mylist):\n",
        "    return mylist[1]\n",
        "getFirst([1,2,3,4,5,6])"
      ],
      "metadata": {
        "colab": {
          "base_uri": "https://localhost:8080/"
        },
        "id": "b4D--gvkH3-T",
        "outputId": "088a012c-19dc-4f9d-d154-e727309784ad"
      },
      "execution_count": 21,
      "outputs": [
        {
          "output_type": "execute_result",
          "data": {
            "text/plain": [
              "2"
            ]
          },
          "metadata": {},
          "execution_count": 21
        }
      ]
    },
    {
      "cell_type": "code",
      "source": [
        "def getFirst(mylist):\n",
        "    return mylist[-1]\n",
        "getFirst([1,2,3,4,5,6])"
      ],
      "metadata": {
        "colab": {
          "base_uri": "https://localhost:8080/"
        },
        "id": "c04dGpDBH4y5",
        "outputId": "062e2cab-b09d-490d-f6c9-0c0104d48191"
      },
      "execution_count": 22,
      "outputs": [
        {
          "output_type": "execute_result",
          "data": {
            "text/plain": [
              "6"
            ]
          },
          "metadata": {},
          "execution_count": 22
        }
      ]
    },
    {
      "cell_type": "code",
      "source": [
        "def getSum(myList):\n",
        "    sum = 0\n",
        "    for item in myList:\n",
        "        sum = sum+item\n",
        "    return sum"
      ],
      "metadata": {
        "id": "w2PuO2PqINIh"
      },
      "execution_count": 45,
      "outputs": []
    },
    {
      "cell_type": "code",
      "source": [
        "getSum([1,2,3,4,5])"
      ],
      "metadata": {
        "colab": {
          "base_uri": "https://localhost:8080/"
        },
        "id": "8q6jRLnQLjkp",
        "outputId": "4ba8cf3e-f770-4e8a-af6e-c6f88fcffaad"
      },
      "execution_count": 46,
      "outputs": [
        {
          "output_type": "execute_result",
          "data": {
            "text/plain": [
              "15"
            ]
          },
          "metadata": {},
          "execution_count": 46
        }
      ]
    },
    {
      "cell_type": "code",
      "source": [
        "def getBagi(myList):\n",
        "    bagi=myList[0]\n",
        "    for item in myList:\n",
        "        bagi/=item\n",
        "    return bagi"
      ],
      "metadata": {
        "id": "DxiGGXwyLwue"
      },
      "execution_count": 147,
      "outputs": []
    },
    {
      "cell_type": "code",
      "source": [
        "getBagi([4,8])"
      ],
      "metadata": {
        "colab": {
          "base_uri": "https://localhost:8080/"
        },
        "id": "fPXBlKNRMA8d",
        "outputId": "8868b0d6-9b6b-462d-81b2-d7da0ef01f7f"
      },
      "execution_count": 148,
      "outputs": [
        {
          "output_type": "execute_result",
          "data": {
            "text/plain": [
              "0.125"
            ]
          },
          "metadata": {},
          "execution_count": 148
        }
      ]
    },
    {
      "cell_type": "code",
      "source": [
        "def getKali(myList):\n",
        "    kali = 1\n",
        "    for item in myList:\n",
        "        kali = kali*item\n",
        "    return kali"
      ],
      "metadata": {
        "id": "g3PT8xclM2Jl"
      },
      "execution_count": 128,
      "outputs": []
    },
    {
      "cell_type": "code",
      "source": [
        "getKali([1,2,3,4])"
      ],
      "metadata": {
        "colab": {
          "base_uri": "https://localhost:8080/"
        },
        "id": "nXzJtAi0M_Vw",
        "outputId": "2bcab77b-37d5-467c-cf37-98547c70bf74"
      },
      "execution_count": 129,
      "outputs": [
        {
          "output_type": "execute_result",
          "data": {
            "text/plain": [
              "24"
            ]
          },
          "metadata": {},
          "execution_count": 129
        }
      ]
    },
    {
      "cell_type": "code",
      "source": [
        "def getSum(myList):\n",
        "    sum = 0\n",
        "    for row in myList:\n",
        "        for item in row:\n",
        "            sum = sum+item\n",
        "    return sum"
      ],
      "metadata": {
        "id": "eB9dPvsVNWZ3"
      },
      "execution_count": 107,
      "outputs": []
    },
    {
      "cell_type": "code",
      "source": [
        "getSum([[2,2,3],[5,2,3]])"
      ],
      "metadata": {
        "colab": {
          "base_uri": "https://localhost:8080/"
        },
        "id": "g-5cUwz-Nt5s",
        "outputId": "993a2e46-3738-496d-f34c-0c605cb633f4"
      },
      "execution_count": 108,
      "outputs": [
        {
          "output_type": "execute_result",
          "data": {
            "text/plain": [
              "17"
            ]
          },
          "metadata": {},
          "execution_count": 108
        }
      ]
    },
    {
      "cell_type": "code",
      "source": [
        "def getBagi(myList):\n",
        "    bagi = 20\n",
        "    for row in myList:\n",
        "        for item in row:\n",
        "            bagi = bagi/item\n",
        "    return bagi"
      ],
      "metadata": {
        "id": "qMGPADdxN4sw"
      },
      "execution_count": 122,
      "outputs": []
    },
    {
      "cell_type": "code",
      "source": [
        "getBagi([[3,2,3],[2,2,2]])"
      ],
      "metadata": {
        "colab": {
          "base_uri": "https://localhost:8080/"
        },
        "id": "64zfgMZaOIPL",
        "outputId": "6f56c1d1-133b-4863-adec-3e96b6a79a59"
      },
      "execution_count": 123,
      "outputs": [
        {
          "output_type": "execute_result",
          "data": {
            "text/plain": [
              "0.1388888888888889"
            ]
          },
          "metadata": {},
          "execution_count": 123
        }
      ]
    },
    {
      "cell_type": "code",
      "source": [
        "def getKureng(myList):\n",
        "    kureng = 2\n",
        "    for row in myList:\n",
        "        for item in row:\n",
        "            kureng-item\n",
        "    return kureng"
      ],
      "metadata": {
        "id": "4Txsq2hFSXp0"
      },
      "execution_count": 164,
      "outputs": []
    },
    {
      "cell_type": "code",
      "source": [
        "getKureng([[3,2,3],[2,2,2]])"
      ],
      "metadata": {
        "colab": {
          "base_uri": "https://localhost:8080/"
        },
        "id": "N2_FcV2aTsRU",
        "outputId": "b3f14265-f6af-4f8b-8084-e307728db243"
      },
      "execution_count": 165,
      "outputs": [
        {
          "output_type": "execute_result",
          "data": {
            "text/plain": [
              "2"
            ]
          },
          "metadata": {},
          "execution_count": 165
        }
      ]
    }
  ]
}