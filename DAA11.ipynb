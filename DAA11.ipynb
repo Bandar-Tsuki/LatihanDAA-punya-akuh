{
  "nbformat": 4,
  "nbformat_minor": 0,
  "metadata": {
    "colab": {
      "provenance": [],
      "collapsed_sections": [],
      "include_colab_link": true
    },
    "kernelspec": {
      "display_name": "Python 3",
      "name": "python3"
    },
    "language_info": {
      "name": "python"
    }
  },
  "cells": [
    {
      "cell_type": "markdown",
      "metadata": {
        "id": "view-in-github",
        "colab_type": "text"
      },
      "source": [
        "<a href=\"https://colab.research.google.com/github/Bandar-Tsuki/LatihanDAA-punya-akuh/blob/main/DAA11.ipynb\" target=\"_parent\"><img src=\"https://colab.research.google.com/assets/colab-badge.svg\" alt=\"Open In Colab\"/></a>"
      ]
    },
    {
      "cell_type": "code",
      "metadata": {
        "colab": {
          "base_uri": "https://localhost:8080/"
        },
        "id": "jxGMnxtCPi35",
        "outputId": "58a992f7-8e7b-4491-af52-55e34402d12d"
      },
      "source": [
        "graph = {\"a\" : [\"b\",\"c\"],\n",
        "         \"b\" : [\"a\",\"d\"],\n",
        "         \"c\" : [\"a\",\"d\"],\n",
        "         \"d\" : [\"e\"],\n",
        "         \"e\" : [\"d\"]\n",
        "         }\n",
        "\n",
        "print(graph)"
      ],
      "execution_count": 1,
      "outputs": [
        {
          "output_type": "stream",
          "name": "stdout",
          "text": [
            "{'a': ['b', 'c'], 'b': ['a', 'd'], 'c': ['a', 'd'], 'd': ['e'], 'e': ['d']}\n"
          ]
        }
      ]
    },
    {
      "cell_type": "code",
      "metadata": {
        "colab": {
          "base_uri": "https://localhost:8080/"
        },
        "id": "nBmvE_v99PRK",
        "outputId": "a542f119-c36a-4a7b-b976-a74ebe43f9c9"
      },
      "source": [
        "graph = {\"T\" : [\"U\",\"W\"],\n",
        "         \"U\" : [\"T\",\"V\"],\n",
        "         \"V\" : [\"U\",\"X\"],\n",
        "         \"W\" : [\"T\",\"X\",\"Z\"],\n",
        "         \"X\" : [\"V\",\"W\",\"S\"],\n",
        "         \"Z\" : [\"W\"],\n",
        "         \"S\" : [\"X\"]\n",
        "         }\n",
        "\n",
        "print(graph)"
      ],
      "execution_count": 2,
      "outputs": [
        {
          "output_type": "stream",
          "name": "stdout",
          "text": [
            "{'T': ['U', 'W'], 'U': ['T', 'V'], 'V': ['U', 'X'], 'W': ['T', 'X', 'Z'], 'X': ['V', 'W', 'S'], 'Z': ['W'], 'S': ['X']}\n"
          ]
        }
      ]
    },
    {
      "cell_type": "code",
      "metadata": {
        "colab": {
          "base_uri": "https://localhost:8080/"
        },
        "id": "o27MtdoQAsVY",
        "outputId": "605cfefe-dd27-472f-c443-6d0e794c1199"
      },
      "source": [
        "#R-----O-----M\n",
        "#|     |     |\n",
        "#L-----P-----N\n",
        "\n",
        "graph = {\"R\" : [\"O\",\"L\"],\n",
        "         \"O\" : [\"R\",\"M\",\"P\"],\n",
        "         \"M\" : [\"O\",\"N\"],\n",
        "         \"L\" : [\"R\",\"P\"],\n",
        "         \"P\" : [\"L\",\"O\",\"N\"],\n",
        "         \"N\" : [\"M\",\"P\"]\n",
        "         }\n",
        "\n",
        "print(graph)"
      ],
      "execution_count": 3,
      "outputs": [
        {
          "output_type": "stream",
          "name": "stdout",
          "text": [
            "{'R': ['O', 'L'], 'O': ['R', 'M', 'P'], 'M': ['O', 'N'], 'L': ['R', 'P'], 'P': ['L', 'O', 'N'], 'N': ['M', 'P']}\n"
          ]
        }
      ]
    },
    {
      "cell_type": "code",
      "metadata": {
        "colab": {
          "base_uri": "https://localhost:8080/"
        },
        "id": "woFYrDi8ROhv",
        "outputId": "f213eb20-1075-4240-d712-722e090c0b0e"
      },
      "source": [
        "class graph:\n",
        "  def __init__(self,gdict=None):\n",
        "    if gdict is None:\n",
        "      gdict = []\n",
        "    self.gdict = gdict\n",
        "\n",
        "  def getVertices(self):\n",
        "    return list(self.gdict.keys())\n",
        "\n",
        "graph_elements = { \"a\" : [\"b\",\"c\"],\n",
        "                   \"b\" : [\"a\",\"d\"],\n",
        "                   \"c\" : [\"a\",\"d\"],\n",
        "                   \"d\" : [\"e\"],\n",
        "                   \"e\" : [\"d\"]\n",
        "                   }\n",
        "g = graph(graph_elements)\n",
        "\n",
        "print(g.getVertices())"
      ],
      "execution_count": 4,
      "outputs": [
        {
          "output_type": "stream",
          "name": "stdout",
          "text": [
            "['a', 'b', 'c', 'd', 'e']\n"
          ]
        }
      ]
    },
    {
      "cell_type": "code",
      "metadata": {
        "colab": {
          "base_uri": "https://localhost:8080/"
        },
        "id": "Sjpk2ywZH3i8",
        "outputId": "e7037af4-e5df-4a5c-a9e6-1642e986dedf"
      },
      "source": [
        "class graph:\n",
        "  def __init__(self,gdict=None):\n",
        "    if gdict is None:\n",
        "      gdict = []\n",
        "    self.gdict = gdict\n",
        "\n",
        "  def getVertices(self):\n",
        "    return list(self.gdict.keys())\n",
        "\n",
        "graph_elements ={\"T\" : [\"U\",\"W\"],\n",
        "                 \"U\" : [\"T\",\"V\"],\n",
        "                 \"V\" : [\"U\",\"X\"],\n",
        "                 \"W\" : [\"T\",\"X\",\"Z\"],\n",
        "                 \"X\" : [\"V\",\"W\",\"S\"],\n",
        "                 \"Z\" : [\"W\"],\n",
        "                 \"S\" : [\"X\"]\n",
        "                 }\n",
        "g = graph(graph_elements)\n",
        "\n",
        "print(g.getVertices())"
      ],
      "execution_count": 5,
      "outputs": [
        {
          "output_type": "stream",
          "name": "stdout",
          "text": [
            "['T', 'U', 'V', 'W', 'X', 'Z', 'S']\n"
          ]
        }
      ]
    },
    {
      "cell_type": "code",
      "metadata": {
        "colab": {
          "base_uri": "https://localhost:8080/"
        },
        "id": "o0jjpwf8KqBu",
        "outputId": "fa945585-eb5d-4472-b3e7-c5cb2edd2a01"
      },
      "source": [
        "class graph:\n",
        "  def __init__(self,gdict=None):\n",
        "    if gdict is None:\n",
        "      gdict = []\n",
        "    self.gdict = gdict\n",
        "\n",
        "  def getVertices(self):\n",
        "    return list(self.gdict.keys())\n",
        "\n",
        "graph_elements ={\"R\" : [\"O\",\"L\"],\n",
        "                 \"O\" : [\"R\",\"M\",\"P\"],\n",
        "                 \"M\" : [\"O\",\"N\"],\n",
        "                 \"L\" : [\"R\",\"P\"],\n",
        "                 \"P\" : [\"L\",\"O\",\"N\"],\n",
        "                 \"N\" : [\"M\",\"P\"]\n",
        "                 }\n",
        "g = graph(graph_elements)\n",
        "\n",
        "print(g.getVertices())"
      ],
      "execution_count": 6,
      "outputs": [
        {
          "output_type": "stream",
          "name": "stdout",
          "text": [
            "['R', 'O', 'M', 'L', 'P', 'N']\n"
          ]
        }
      ]
    },
    {
      "cell_type": "code",
      "metadata": {
        "id": "v8wrKDGZR7pw"
      },
      "source": [
        "#a-----b\n",
        "#|     |\n",
        "#|     |\n",
        "#c-----d-----e\n",
        "\n",
        "class graph:\n",
        "  def __init__(self,gdict=None):\n",
        "    if gdict is None:\n",
        "      gdict = {}\n",
        "    self.gdict = gdict\n",
        "\n",
        "  def edges(self):\n",
        "    return self.findedges()\n",
        "\n",
        "  def findedges(self):\n",
        "    edgename = []\n",
        "    for vrtx in self.gdict:\n",
        "      for nxtvrtx in self.gdict[vrtx]:\n",
        "        if {nxtvrtx, vrtx} not in edgename:\n",
        "          edgename.append({vrtx, nxtvrtx})\n",
        "    return edgename"
      ],
      "execution_count": 7,
      "outputs": []
    },
    {
      "cell_type": "code",
      "metadata": {
        "colab": {
          "base_uri": "https://localhost:8080/"
        },
        "id": "Kx9tdbvmPTdr",
        "outputId": "460dbd55-e49a-4d4c-9a62-d4b68527ab36"
      },
      "source": [
        "graph_elements = { \"a\" : [\"b\",\"c\"],\n",
        "                   \"b\" : [\"a\",\"d\"],\n",
        "                   \"c\" : [\"a\",\"d\"],\n",
        "                   \"d\" : [\"e\"],\n",
        "                   \"e\" : [\"d\"]\n",
        "                   }\n",
        "g = graph(graph_elements)\n",
        "\n",
        "print(g.edges())"
      ],
      "execution_count": 8,
      "outputs": [
        {
          "output_type": "stream",
          "name": "stdout",
          "text": [
            "[{'a', 'b'}, {'a', 'c'}, {'d', 'b'}, {'d', 'c'}, {'d', 'e'}]\n"
          ]
        }
      ]
    },
    {
      "cell_type": "code",
      "metadata": {
        "colab": {
          "base_uri": "https://localhost:8080/"
        },
        "id": "tvivcrXxO-zS",
        "outputId": "78cd8c69-3632-476c-ebbd-ba4593c3a15a"
      },
      "source": [
        "graph_elements ={\"T\" : [\"U\",\"W\"],\n",
        "                 \"U\" : [\"T\",\"V\"],\n",
        "                 \"V\" : [\"U\",\"X\"],\n",
        "                 \"W\" : [\"T\",\"X\",\"Z\"],\n",
        "                 \"X\" : [\"V\",\"W\",\"S\"],\n",
        "                 \"Z\" : [\"W\"],\n",
        "                 \"S\" : [\"X\"]\n",
        "                 }\n",
        "g = graph(graph_elements)\n",
        "\n",
        "print(g.edges())"
      ],
      "execution_count": 9,
      "outputs": [
        {
          "output_type": "stream",
          "name": "stdout",
          "text": [
            "[{'T', 'U'}, {'T', 'W'}, {'U', 'V'}, {'X', 'V'}, {'X', 'W'}, {'Z', 'W'}, {'S', 'X'}]\n"
          ]
        }
      ]
    },
    {
      "cell_type": "code",
      "metadata": {
        "colab": {
          "base_uri": "https://localhost:8080/"
        },
        "id": "l80VK80nPFUX",
        "outputId": "51c3cb4e-764d-494c-8e32-5bb0ce15bd09"
      },
      "source": [
        "graph_elements ={\"R\" : [\"O\",\"L\"],\n",
        "                 \"O\" : [\"R\",\"M\",\"P\"],\n",
        "                 \"M\" : [\"O\",\"N\"],\n",
        "                 \"L\" : [\"R\",\"P\"],\n",
        "                 \"P\" : [\"L\",\"O\",\"N\"],\n",
        "                 \"N\" : [\"M\",\"P\"]\n",
        "                 }\n",
        "g = graph(graph_elements)\n",
        "\n",
        "print(g.edges())"
      ],
      "execution_count": 10,
      "outputs": [
        {
          "output_type": "stream",
          "name": "stdout",
          "text": [
            "[{'R', 'O'}, {'L', 'R'}, {'M', 'O'}, {'P', 'O'}, {'N', 'M'}, {'L', 'P'}, {'P', 'N'}]\n"
          ]
        }
      ]
    },
    {
      "cell_type": "code",
      "metadata": {
        "id": "XdFCEC2-SyED"
      },
      "source": [
        "class graph:\n",
        "  def __init__(self,gdict=None):\n",
        "    if gdict is None:\n",
        "      gdict = {}\n",
        "    self.gdict = gdict\n",
        "\n",
        "  def getVertices(self):\n",
        "    return list(self.gdict.keys())\n",
        "\n",
        "  def addVertex(self, vrtx):\n",
        "    if vrtx not in self.gdict:\n",
        "      self.gdict[vrtx] = []"
      ],
      "execution_count": 11,
      "outputs": []
    },
    {
      "cell_type": "code",
      "metadata": {
        "colab": {
          "base_uri": "https://localhost:8080/"
        },
        "id": "4-0IBNiaT1AY",
        "outputId": "933dcc33-ff70-4d11-f521-8d82153be697"
      },
      "source": [
        "graph_elements =  {\"a\" : [\"b\",\"c\"],\n",
        "                   \"b\" : [\"a\",\"d\"],\n",
        "                   \"c\" : [\"a\",\"d\"],\n",
        "                   \"d\" : [\"e\"],\n",
        "                   \"e\" : [\"d\"]\n",
        "                   }\n",
        "g = graph(graph_elements)\n",
        "g.addVertex(\"f\")\n",
        "\n",
        "print(g.getVertices())"
      ],
      "execution_count": 12,
      "outputs": [
        {
          "output_type": "stream",
          "name": "stdout",
          "text": [
            "['a', 'b', 'c', 'd', 'e', 'f']\n"
          ]
        }
      ]
    },
    {
      "cell_type": "code",
      "metadata": {
        "colab": {
          "base_uri": "https://localhost:8080/"
        },
        "id": "jGCwCQRHT3Hg",
        "outputId": "f418ffa6-330c-4c52-8de4-d934c818df3f"
      },
      "source": [
        "graph_elements ={\"R\" : [\"O\",\"L\"],\n",
        "                 \"O\" : [\"R\",\"M\",\"P\"],\n",
        "                 \"M\" : [\"O\",\"N\"],\n",
        "                 \"L\" : [\"R\",\"P\"],\n",
        "                 \"P\" : [\"L\",\"O\",\"N\"],\n",
        "                 \"N\" : [\"M\",\"P\"]\n",
        "                 }\n",
        "g = graph(graph_elements)\n",
        "g.addVertex(\"Q\")\n",
        "\n",
        "print(g.getVertices())"
      ],
      "execution_count": 13,
      "outputs": [
        {
          "output_type": "stream",
          "name": "stdout",
          "text": [
            "['R', 'O', 'M', 'L', 'P', 'N', 'Q']\n"
          ]
        }
      ]
    },
    {
      "cell_type": "code",
      "metadata": {
        "colab": {
          "base_uri": "https://localhost:8080/"
        },
        "id": "OUU_fLd2Tqbs",
        "outputId": "a8147bc7-0f09-4a74-deb4-dae3de3c42ac"
      },
      "source": [
        "class graph:\n",
        "  def __init__(self,gdict=None):\n",
        "    if gdict is None:\n",
        "      gdict = {}\n",
        "    self.gdict = gdict\n",
        "\n",
        "  def edges(self):\n",
        "    return self.findedges()\n",
        "\n",
        "  def AddEdge(self, edge):\n",
        "    edge = set(edge)\n",
        "    (vrtx1, vrtx2) = tuple(edge)\n",
        "    if vrtx1 in self.gdict:\n",
        "      self.gdict[vrtx1].append(vrtx2)\n",
        "    else:\n",
        "      self.gdict[vrtx1] = [vrtx2]\n",
        "\n",
        "  def findedges(self):\n",
        "    edgename = []\n",
        "    for vrtx in self.gdict:\n",
        "      for nxtvrtx in self.gdict[vrtx]:\n",
        "        if {nxtvrtx, vrtx} not in edgename:\n",
        "          edgename.append({vrtx, nxtvrtx})\n",
        "    return edgename\n",
        "\n",
        "graph_elements =  {\"a\" : [\"b\",\"c\"],\n",
        "                   \"b\" : [\"a\",\"d\"],\n",
        "                   \"c\" : [\"a\",\"d\"],\n",
        "                   \"d\" : [\"e\"],\n",
        "                   \"e\" : [\"d\"]\n",
        "                   }\n",
        "\n",
        "g = graph(graph_elements)\n",
        "g.AddEdge({'a','e'})\n",
        "g.AddEdge({'a','c'})\n",
        "\n",
        "print(g.edges())"
      ],
      "execution_count": 14,
      "outputs": [
        {
          "output_type": "stream",
          "name": "stdout",
          "text": [
            "[{'a', 'b'}, {'a', 'c'}, {'d', 'b'}, {'d', 'c'}, {'d', 'e'}, {'e', 'a'}]\n"
          ]
        }
      ]
    }
  ]
}